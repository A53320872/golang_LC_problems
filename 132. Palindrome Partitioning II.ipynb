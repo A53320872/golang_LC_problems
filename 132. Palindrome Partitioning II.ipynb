{
 "cells": [
  {
   "cell_type": "markdown",
   "metadata": {},
   "source": [
    "https://leetcode.com/problems/palindrome-partitioning-ii/"
   ]
  },
  {
   "cell_type": "code",
   "execution_count": null,
   "metadata": {},
   "outputs": [],
   "source": [
    "class Solution(object):\n",
    "    def minCut(self, s):\n",
    "        mem = {}\n",
    "        def dp(s):\n",
    "            if s == s[::-1]:\n",
    "                mem[s] = 0\n",
    "                return 0\n",
    "            if s in mem: return mem[s]\n",
    "            i = 1\n",
    "            minCutting = float('inf')\n",
    "            while i < len(s):\n",
    "                if s[:i] == s[:i][::-1]:\n",
    "                    minCutting = min(minCutting, dp(s[i:])+1)\n",
    "                i += 1\n",
    "            mem[s] = minCutting\n",
    "            return minCutting\n",
    "        return dp(s)\n",
    "                "
   ]
  }
 ],
 "metadata": {
  "kernelspec": {
   "display_name": "Python 3",
   "language": "python",
   "name": "python3"
  },
  "language_info": {
   "codemirror_mode": {
    "name": "ipython",
    "version": 3
   },
   "file_extension": ".py",
   "mimetype": "text/x-python",
   "name": "python",
   "nbconvert_exporter": "python",
   "pygments_lexer": "ipython3",
   "version": "3.7.4"
  }
 },
 "nbformat": 4,
 "nbformat_minor": 2
}
